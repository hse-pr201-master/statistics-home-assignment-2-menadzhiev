{
 "cells": [
  {
   "cell_type": "markdown",
   "id": "f4dfac25",
   "metadata": {},
   "source": [
    "## Задача 6"
   ]
  },
  {
   "cell_type": "code",
   "execution_count": 1,
   "id": "f6d208cd",
   "metadata": {},
   "outputs": [],
   "source": [
    "import numpy as np\n",
    "import pandas as pd\n",
    "import matplotlib.pyplot as plt"
   ]
  },
  {
   "cell_type": "code",
   "execution_count": 2,
   "id": "b1ce5748",
   "metadata": {
    "scrolled": true
   },
   "outputs": [
    {
     "data": {
      "text/html": [
       "<div>\n",
       "<style scoped>\n",
       "    .dataframe tbody tr th:only-of-type {\n",
       "        vertical-align: middle;\n",
       "    }\n",
       "\n",
       "    .dataframe tbody tr th {\n",
       "        vertical-align: top;\n",
       "    }\n",
       "\n",
       "    .dataframe thead th {\n",
       "        text-align: right;\n",
       "    }\n",
       "</style>\n",
       "<table border=\"1\" class=\"dataframe\">\n",
       "  <thead>\n",
       "    <tr style=\"text-align: right;\">\n",
       "      <th></th>\n",
       "      <th>Surname</th>\n",
       "      <th>Score</th>\n",
       "      <th>Surname Length</th>\n",
       "    </tr>\n",
       "  </thead>\n",
       "  <tbody>\n",
       "    <tr>\n",
       "      <th>0</th>\n",
       "      <td>Репенкова</td>\n",
       "      <td>16</td>\n",
       "      <td>9</td>\n",
       "    </tr>\n",
       "    <tr>\n",
       "      <th>1</th>\n",
       "      <td>Ролдугина</td>\n",
       "      <td>0</td>\n",
       "      <td>9</td>\n",
       "    </tr>\n",
       "    <tr>\n",
       "      <th>2</th>\n",
       "      <td>Сафина</td>\n",
       "      <td>19</td>\n",
       "      <td>6</td>\n",
       "    </tr>\n",
       "    <tr>\n",
       "      <th>3</th>\n",
       "      <td>Сидоров</td>\n",
       "      <td>26</td>\n",
       "      <td>7</td>\n",
       "    </tr>\n",
       "    <tr>\n",
       "      <th>4</th>\n",
       "      <td>Солоухин</td>\n",
       "      <td>21</td>\n",
       "      <td>8</td>\n",
       "    </tr>\n",
       "  </tbody>\n",
       "</table>\n",
       "</div>"
      ],
      "text/plain": [
       "     Surname  Score  Surname Length\n",
       "0  Репенкова     16               9\n",
       "1  Ролдугина      0               9\n",
       "2     Сафина     19               6\n",
       "3    Сидоров     26               7\n",
       "4   Солоухин     21               8"
      ]
     },
     "execution_count": 2,
     "metadata": {},
     "output_type": "execute_result"
    }
   ],
   "source": [
    "exam_df = pd.read_excel('exam_results.xls')\n",
    "exam_df.drop(columns=['Номер', 'ИО'], inplace=True)\n",
    "exam_df.columns = ['Surname', 'Score']\n",
    "\n",
    "# Добавим в таблицу длину фамилии\n",
    "exam_df['Surname Length'] = exam_df['Surname'].apply(len)\n",
    "exam_df.head()"
   ]
  },
  {
   "cell_type": "code",
   "execution_count": 3,
   "id": "59bf13ea",
   "metadata": {},
   "outputs": [],
   "source": [
    "# Зафиксируем уровень значимости и найдем критическое значение\n",
    "alpha = 0.05\n",
    "\n",
    "# Выделим выборки\n",
    "Y, F = exam_df['Score'].values, exam_df['Surname Length'].values"
   ]
  },
  {
   "cell_type": "markdown",
   "id": "cb777bab",
   "metadata": {},
   "source": [
    "__а)__"
   ]
  },
  {
   "cell_type": "code",
   "execution_count": 4,
   "id": "01423c19",
   "metadata": {},
   "outputs": [
    {
     "data": {
      "text/plain": [
       "2.0613026819923372"
      ]
     },
     "execution_count": 4,
     "metadata": {},
     "output_type": "execute_result"
    }
   ],
   "source": [
    "# Вычислим оценку beta метода моментов\n",
    "beta_hat = Y.sum() / F.sum()\n",
    "beta_hat"
   ]
  },
  {
   "cell_type": "code",
   "execution_count": 5,
   "id": "2df92d5b",
   "metadata": {},
   "outputs": [
    {
     "data": {
      "text/plain": [
       "0.025328052669147682"
      ]
     },
     "execution_count": 5,
     "metadata": {},
     "output_type": "execute_result"
    }
   ],
   "source": [
    "# Вычислим выборочную корреляцию\n",
    "ro_hat = np.corrcoef(Y, F)[0, 1]\n",
    "ro_hat"
   ]
  },
  {
   "cell_type": "markdown",
   "id": "e0fb7eea",
   "metadata": {},
   "source": [
    "__Вывод:__ Видно, что корреляция практически отсутствует."
   ]
  },
  {
   "cell_type": "markdown",
   "id": "49f070fe",
   "metadata": {},
   "source": [
    "__б)__"
   ]
  },
  {
   "cell_type": "code",
   "execution_count": 6,
   "id": "984825f7",
   "metadata": {},
   "outputs": [],
   "source": [
    "def ro_star(Y, F, i):\n",
    "    np.random.seed(i)\n",
    "    Y_star = np.random.permutation(Y)\n",
    "    return np.corrcoef(Y_star, F)[0, 1]"
   ]
  },
  {
   "cell_type": "code",
   "execution_count": 7,
   "id": "f4bf9a31",
   "metadata": {},
   "outputs": [],
   "source": [
    "# Посчитаем значения ro_star для n_p перестановок Y\n",
    "ro_stars = np.array([ro_star(Y, F, i) for i in range(10**4)])"
   ]
  },
  {
   "cell_type": "code",
   "execution_count": 8,
   "id": "9a11c511",
   "metadata": {},
   "outputs": [
    {
     "name": "stdout",
     "output_type": "stream",
     "text": [
      "q_l = -0.10701562205245217, q_r = 0.11016904382380786\n"
     ]
    }
   ],
   "source": [
    "# Построим Д.И.\n",
    "q_l = np.quantile(ro_stars, q=alpha / 2)\n",
    "q_r = np.quantile(ro_stars, q=1 - alpha / 2)\n",
    "print(f'q_l = {q_l}, q_r = {q_r}')"
   ]
  },
  {
   "cell_type": "code",
   "execution_count": 9,
   "id": "36d222e1",
   "metadata": {
    "scrolled": true
   },
   "outputs": [
    {
     "data": {
      "text/plain": [
       "0.025328052669147682"
      ]
     },
     "execution_count": 9,
     "metadata": {},
     "output_type": "execute_result"
    }
   ],
   "source": [
    "# Вспомним наблюдаемое значение\n",
    "ro_hat"
   ]
  },
  {
   "cell_type": "code",
   "execution_count": 10,
   "id": "7305e071",
   "metadata": {
    "scrolled": true
   },
   "outputs": [
    {
     "data": {
      "text/plain": [
       "0.647"
      ]
     },
     "execution_count": 10,
     "metadata": {},
     "output_type": "execute_result"
    }
   ],
   "source": [
    "# Посчитаем p-value - количество раз, которое ro_stars превышали наблюдаемое значение, умноженное на 2\n",
    "p_value = 2 * min(np.mean(ro_stars <= ro_hat), np.mean(ro_stars >= ro_hat))\n",
    "p_value"
   ]
  },
  {
   "cell_type": "code",
   "execution_count": 11,
   "id": "ffb4ff74",
   "metadata": {},
   "outputs": [
    {
     "data": {
      "image/png": "[encoded data removed]",
      "text/plain": [
       "<Figure size 640x480 with 1 Axes>"
      ]
     },
     "metadata": {},
     "output_type": "display_data"
    }
   ],
   "source": [
    "# Построим гистограмму и выделим на ней Д.И. и наблюдаемое значение\n",
    "plt.hist(ro_stars, bins=40)\n",
    "\n",
    "plt.vlines(q_l, 0, 700, linestyles='dashed', color='orange', label='q_l')\n",
    "plt.vlines(q_r, 0, 700, linestyles='dashed', color='red', label='q_r')\n",
    "plt.vlines(ro_hat, 0, 700, linestyles='dashed', color='purple', label='ro_hat')\n",
    "\n",
    "\n",
    "plt.title('Гистограмма ro_stars')\n",
    "plt.legend();"
   ]
  },
  {
   "cell_type": "markdown",
   "id": "a065c365",
   "metadata": {},
   "source": [
    "__Вывод:__ Видим, что наблюдаемое значение лежит внутри интервала, следовательно, гипотеза о равенстве нулю корреляции не отвергается."
   ]
  }
 ],
 "metadata": {
  "kernelspec": {
   "display_name": "Python 3 (ipykernel)",
   "language": "python",
   "name": "python3"
  },
  "language_info": {
   "codemirror_mode": {
    "name": "ipython",
    "version": 3
   },
   "file_extension": ".py",
   "mimetype": "text/x-python",
   "name": "python",
   "nbconvert_exporter": "python",
   "pygments_lexer": "ipython3",
   "version": "3.9.13"
  }
 },
 "nbformat": 4,
 "nbformat_minor": 5
}
