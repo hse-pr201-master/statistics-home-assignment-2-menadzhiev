{
 "cells": [
  {
   "cell_type": "markdown",
   "id": "2e2c5593",
   "metadata": {},
   "source": [
    "## Задача 3"
   ]
  },
  {
   "cell_type": "code",
   "execution_count": 1,
   "id": "6fdd93b3",
   "metadata": {},
   "outputs": [],
   "source": [
    "import numpy as np\n",
    "import scipy.stats as sts"
   ]
  },
  {
   "cell_type": "markdown",
   "id": "e37341ed",
   "metadata": {},
   "source": [
    "__а)__ $X_{1}, ... , X_{20} \\sim i.i.d., \\space X_{i} \\sim Exp(1)$"
   ]
  },
  {
   "cell_type": "code",
   "execution_count": 2,
   "id": "aace2fef",
   "metadata": {},
   "outputs": [],
   "source": [
    "alpha = 0.05  # Уровень значимости\n",
    "lam = 1  # Интенсивность показательного распределения"
   ]
  },
  {
   "cell_type": "markdown",
   "id": "b0764a9b",
   "metadata": {},
   "source": [
    "__1 способ:__"
   ]
  },
  {
   "cell_type": "code",
   "execution_count": 3,
   "id": "6a5b81dc",
   "metadata": {},
   "outputs": [],
   "source": [
    "def does_norm_CI_cover(sample):\n",
    "    q_l = np.mean(sample) - sts.norm.ppf(1 - alpha / 2) * np.std(sample, ddof=1) / np.sqrt(len(sample))\n",
    "    q_r = np.mean(sample) + sts.norm.ppf(1 - alpha / 2) * np.std(sample, ddof=1) / np.sqrt(len(sample))\n",
    "    return q_l <= 1 / lam and 1 / lam <= q_r"
   ]
  },
  {
   "cell_type": "code",
   "execution_count": 4,
   "id": "48631297",
   "metadata": {},
   "outputs": [
    {
     "name": "stdout",
     "output_type": "stream",
     "text": [
      "(10000, 20)\n"
     ]
    },
    {
     "data": {
      "text/plain": [
       "array([[0.74660793, 1.15619008, 1.80590416, ..., 0.28984257, 2.72612982,\n",
       "        0.08608175],\n",
       "       [0.55425976, 1.38121152, 0.28823428, ..., 2.75471494, 0.3378933 ,\n",
       "        0.29786844],\n",
       "       [0.3621953 , 0.2221918 , 0.34847724, ..., 0.60011926, 0.51124433,\n",
       "        3.52871164],\n",
       "       ...,\n",
       "       [2.13482072, 3.52043236, 0.88118601, ..., 0.1026552 , 2.71131173,\n",
       "        1.68439971],\n",
       "       [2.4833841 , 1.47532361, 0.83892948, ..., 1.31164588, 6.56467774,\n",
       "        0.31202082],\n",
       "       [1.63514573, 1.79093836, 0.50246544, ..., 0.402314  , 0.06868973,\n",
       "        2.35401496]])"
      ]
     },
     "execution_count": 4,
     "metadata": {},
     "output_type": "execute_result"
    }
   ],
   "source": [
    "# Создадим 10**4 выборок размера 20\n",
    "samples = sts.expon.rvs(size=(10**4, 20), scale=1 / lam, random_state=222)\n",
    "print(samples.shape)\n",
    "samples"
   ]
  },
  {
   "cell_type": "code",
   "execution_count": 5,
   "id": "96be08f3",
   "metadata": {
    "scrolled": true
   },
   "outputs": [
    {
     "name": "stdout",
     "output_type": "stream",
     "text": [
      "Оценка вероятности накрытия доверительным интервалом мат. ожидания равна 0.9024\n"
     ]
    }
   ],
   "source": [
    "# Получим оценку вероятности накрытия доверительным интервалом мат. ожидания\n",
    "arr = np.array([does_norm_CI_cover(sample) for sample in samples])\n",
    "print(f\"Оценка вероятности накрытия доверительным интервалом мат. ожидания равна {np.mean(arr)}\")"
   ]
  },
  {
   "cell_type": "markdown",
   "id": "739bddbb",
   "metadata": {},
   "source": [
    "__2 способ:__"
   ]
  },
  {
   "cell_type": "code",
   "execution_count": 6,
   "id": "e4727834",
   "metadata": {},
   "outputs": [
    {
     "name": "stdout",
     "output_type": "stream",
     "text": [
      "(20,)\n"
     ]
    },
    {
     "data": {
      "text/plain": [
       "array([0.74660793, 1.15619008, 1.80590416, 1.06063829, 0.03772467,\n",
       "       0.19864079, 1.42949175, 0.25399538, 1.32853529, 0.33896198,\n",
       "       1.31968301, 0.11389402, 0.09855281, 1.52872961, 0.73313077,\n",
       "       2.3548982 , 0.50706333, 0.28984257, 2.72612982, 0.08608175])"
      ]
     },
     "execution_count": 6,
     "metadata": {},
     "output_type": "execute_result"
    }
   ],
   "source": [
    "# Сгенерируем базовую выборку\n",
    "base_sample = sts.expon.rvs(size=20, scale=1/lam, random_state=222)\n",
    "print(base_sample.shape)\n",
    "base_sample"
   ]
  },
  {
   "cell_type": "code",
   "execution_count": 7,
   "id": "c1afc2d6",
   "metadata": {},
   "outputs": [],
   "source": [
    "does_naive_CI_cover = []\n",
    "\n",
    "# Проделаем 10**4 процедур создания Д.И.\n",
    "for i in range(10**4):\n",
    "    np.random.seed(i)\n",
    "    \n",
    "    # Создадим 25 бутстрэп-выборок размера 20, не слишком много, чтобы можно было сравинить качество\n",
    "    iteration = np.random.choice(base_sample, size=(25, 20))\n",
    "    \n",
    "    # Создадим список средних, посчитанных по всем бутстрэп-выборкам\n",
    "    theta_hat_stars = [np.mean(sample) for sample in iteration]\n",
    "    \n",
    "    # Посчитаем левый и правый квантили\n",
    "    q_l = np.quantile(theta_hat_stars, q=alpha / 2)\n",
    "    q_r = np.quantile(theta_hat_stars, q=1 - alpha / 2)\n",
    "    \n",
    "    # Добавим в итоговый список результат: накрывает ли найденный ДИ истинное математическое ожидание\n",
    "    cond = (q_l <= 1 / lam) & (1 / lam <= q_r)\n",
    "    does_naive_CI_cover.append(cond)"
   ]
  },
  {
   "cell_type": "code",
   "execution_count": 8,
   "id": "8739b34c",
   "metadata": {},
   "outputs": [
    {
     "name": "stdout",
     "output_type": "stream",
     "text": [
      "Оценка вероятности накрытия доверительным интервалом мат. ожидания равна 0.9996\n"
     ]
    }
   ],
   "source": [
    "# Получим оценку вероятности накрытия доверительным интервалом мат. ожидания\n",
    "print(f\"Оценка вероятности накрытия доверительным интервалом мат. ожидания равна {np.mean(does_naive_CI_cover)}\")"
   ]
  },
  {
   "cell_type": "markdown",
   "id": "b7818fd9",
   "metadata": {},
   "source": [
    "__3 способ:__"
   ]
  },
  {
   "cell_type": "code",
   "execution_count": 9,
   "id": "e764be25",
   "metadata": {},
   "outputs": [
    {
     "name": "stdout",
     "output_type": "stream",
     "text": [
      "(20,)\n"
     ]
    },
    {
     "data": {
      "text/plain": [
       "array([0.74660793, 1.15619008, 1.80590416, 1.06063829, 0.03772467,\n",
       "       0.19864079, 1.42949175, 0.25399538, 1.32853529, 0.33896198,\n",
       "       1.31968301, 0.11389402, 0.09855281, 1.52872961, 0.73313077,\n",
       "       2.3548982 , 0.50706333, 0.28984257, 2.72612982, 0.08608175])"
      ]
     },
     "execution_count": 9,
     "metadata": {},
     "output_type": "execute_result"
    }
   ],
   "source": [
    "# Сгенерируем базовую выборку\n",
    "base_sample = sts.expon.rvs(size=20, scale=1/lam, random_state=222)\n",
    "print(base_sample.shape)\n",
    "base_sample"
   ]
  },
  {
   "cell_type": "code",
   "execution_count": 10,
   "id": "b5b1c6f0",
   "metadata": {},
   "outputs": [],
   "source": [
    "# Посчитаем среднее значение и стандартную ошибку по исходной выборке\n",
    "theta_hat = np.mean(base_sample)\n",
    "se_theta_hat = np.std(base_sample, ddof=1) / np.sqrt(len(base_sample))"
   ]
  },
  {
   "cell_type": "code",
   "execution_count": 11,
   "id": "bb4ca098",
   "metadata": {},
   "outputs": [],
   "source": [
    "def t_star_counter(sample):\n",
    "    return (np.mean(sample) - theta_hat) / (np.std(sample, ddof=1) / np.sqrt(len(sample)))"
   ]
  },
  {
   "cell_type": "code",
   "execution_count": 12,
   "id": "829108d2",
   "metadata": {},
   "outputs": [],
   "source": [
    "does_t_bootstap_CI_cover = []\n",
    "for i in range(10**4):\n",
    "    np.random.seed(i)\n",
    "    \n",
    "    # Создадим 25 бутстрэп-выборок размера 20, не слишком много, чтобы можно было сравинить качество\n",
    "    iteration = np.random.choice(base_sample, size=(25, 20))\n",
    "    \n",
    "    # Создадим список t-статистик, посчитанных по всем бутстрэп-выборкам\n",
    "    t_stars = np.array([t_star_counter(sample) for sample in iteration])\n",
    "    \n",
    "    # Посчитаем левый и правый квантили\n",
    "    q_l = np.quantile(t_stars, q=alpha/2)\n",
    "    q_r = np.quantile(t_stars, q=1-alpha/2)\n",
    "    \n",
    "    cond = (theta_hat - q_r * se_theta_hat <= 1 / lam) & (1 / lam <= theta_hat - q_l * se_theta_hat)\n",
    "    does_t_bootstap_CI_cover.append(cond)"
   ]
  },
  {
   "cell_type": "code",
   "execution_count": 13,
   "id": "6152f83c",
   "metadata": {},
   "outputs": [
    {
     "name": "stdout",
     "output_type": "stream",
     "text": [
      "Оценка вероятности накрытия доверительным интервалом мат. ожидания равна 0.9998\n"
     ]
    }
   ],
   "source": [
    "# Получим оценку вероятности накрытия доверительным интервалом мат. ожидания\n",
    "print(f\"Оценка вероятности накрытия доверительным интервалом мат. ожидания равна {np.mean(does_t_bootstap_CI_cover)}\")"
   ]
  },
  {
   "cell_type": "markdown",
   "id": "190f4fb2",
   "metadata": {},
   "source": [
    "__б)__"
   ]
  },
  {
   "cell_type": "markdown",
   "id": "d48774b3",
   "metadata": {},
   "source": [
    "__1 способ:__"
   ]
  },
  {
   "cell_type": "code",
   "execution_count": 14,
   "id": "44055bff",
   "metadata": {},
   "outputs": [],
   "source": [
    "def does_norm_CI_cover(sample):\n",
    "    q_l = np.mean(sample) - sts.norm.ppf(1 - alpha / 2) * np.std(sample, ddof=1) / np.sqrt(len(sample))\n",
    "    q_r = np.mean(sample) + sts.norm.ppf(1 - alpha / 2) * np.std(sample, ddof=1) / np.sqrt(len(sample))\n",
    "    return q_l <= 0 and 0 <= q_r"
   ]
  },
  {
   "cell_type": "code",
   "execution_count": 15,
   "id": "faced5b1",
   "metadata": {},
   "outputs": [
    {
     "name": "stdout",
     "output_type": "stream",
     "text": [
      "(10000, 20)\n"
     ]
    },
    {
     "data": {
      "text/plain": [
       "array([[-1.08669864e+00, -5.74089037e-01, -7.98119348e-02, ...,\n",
       "        -3.62640210e-03, -8.50206406e-01, -8.86044880e-01],\n",
       "       [-2.78706043e+00, -8.50150788e-01,  4.50058763e-01, ...,\n",
       "        -1.06382198e-01, -3.25162308e-01,  1.45758236e+00],\n",
       "       [ 3.23789516e-01,  1.64488594e+00, -2.18188566e+00, ...,\n",
       "         6.62300497e-01,  5.99714079e-01, -6.42638238e-01],\n",
       "       ...,\n",
       "       [-6.65070368e-01, -1.93785060e-01, -5.53176705e-01, ...,\n",
       "        -6.48768253e+00, -4.21151019e-02, -6.77056852e-01],\n",
       "       [ 1.34310331e+00,  8.45396151e-01, -7.92699574e-01, ...,\n",
       "         5.61866638e-01,  3.17609257e+00, -3.61733677e-01],\n",
       "       [ 1.88724641e+00, -1.41306151e-01,  4.18548984e-01, ...,\n",
       "        -3.20680641e-01,  4.68659648e-01, -2.47280150e-01]])"
      ]
     },
     "execution_count": 15,
     "metadata": {},
     "output_type": "execute_result"
    }
   ],
   "source": [
    "# Создадим 10000 выборок\n",
    "np.random.seed(111)\n",
    "samples = np.random.standard_t(df=3, size=(10**4, 20))\n",
    "print(samples.shape)\n",
    "samples"
   ]
  },
  {
   "cell_type": "code",
   "execution_count": 16,
   "id": "b6a7cadf",
   "metadata": {},
   "outputs": [
    {
     "name": "stdout",
     "output_type": "stream",
     "text": [
      "Оценка вероятности накрытия доверительным интервалом мат. ожидания равна 0.9442\n"
     ]
    }
   ],
   "source": [
    "arr = np.array([does_norm_CI_cover(sample) for sample in samples])\n",
    "print(f\"Оценка вероятности накрытия доверительным интервалом мат. ожидания равна {np.mean(arr)}\")"
   ]
  },
  {
   "cell_type": "markdown",
   "id": "8405011c",
   "metadata": {},
   "source": [
    "__2 способ:__"
   ]
  },
  {
   "cell_type": "code",
   "execution_count": 17,
   "id": "efbaa9cc",
   "metadata": {
    "scrolled": false
   },
   "outputs": [
    {
     "name": "stdout",
     "output_type": "stream",
     "text": [
      "(20,)\n"
     ]
    },
    {
     "data": {
      "text/plain": [
       "array([-1.08669864e+00, -5.74089037e-01, -7.98119348e-02, -2.20083002e-01,\n",
       "       -1.18474575e+00,  9.79129257e-02,  1.26531716e+00, -6.24767768e-02,\n",
       "        4.45462511e-01,  6.27476072e-01,  2.45541848e+00, -3.05525889e+00,\n",
       "        5.96614266e-01,  7.12012381e-01, -4.40014695e-01,  1.92665032e+00,\n",
       "        5.03694196e+00, -3.62640210e-03, -8.50206406e-01, -8.86044880e-01])"
      ]
     },
     "execution_count": 17,
     "metadata": {},
     "output_type": "execute_result"
    }
   ],
   "source": [
    "np.random.seed(111)\n",
    "base_sample = np.random.standard_t(df=3, size=20)\n",
    "print(base_sample.shape)\n",
    "base_sample"
   ]
  },
  {
   "cell_type": "code",
   "execution_count": 18,
   "id": "068737d4",
   "metadata": {
    "scrolled": true
   },
   "outputs": [],
   "source": [
    "does_naive_CI_cover = []\n",
    "for i in range(10**4):\n",
    "    np.random.seed(i)\n",
    "    # Создадим 25 бутстрэп-выборок размера 20\n",
    "    iteration = np.random.choice(base_sample, size=(25, 20))\n",
    "\n",
    "    # Создадим список средних, посчитанных по всем бутстрэп-выборкам\n",
    "    theta_hat_stars = [np.mean(sample) for sample in iteration]\n",
    "\n",
    "    # Посчитаем левый и правый квантили\n",
    "    q_l = np.quantile(theta_hat_stars, q=alpha/2)\n",
    "    q_r = np.quantile(theta_hat_stars, q=1-alpha/2)\n",
    "\n",
    "    # Добавим в итоговый список результат: накрывает ли найденный ДИ истинное математическое ожидание\n",
    "    cond = (q_l <= 0) & (0 <= q_r)\n",
    "    does_naive_CI_cover.append(cond)"
   ]
  },
  {
   "cell_type": "code",
   "execution_count": 19,
   "id": "ab2eb2a7",
   "metadata": {
    "scrolled": true
   },
   "outputs": [
    {
     "name": "stdout",
     "output_type": "stream",
     "text": [
      "Оценка вероятности накрытия доверительным интервалом мат. ожидания равна 0.9986\n"
     ]
    }
   ],
   "source": [
    "# Получим оценку вероятности накрытия доверительным интервалом мат. ожидания\n",
    "print(f\"Оценка вероятности накрытия доверительным интервалом мат. ожидания равна {np.mean(does_naive_CI_cover)}\")"
   ]
  },
  {
   "cell_type": "markdown",
   "id": "65859275",
   "metadata": {},
   "source": [
    "__3 способ:__"
   ]
  },
  {
   "cell_type": "code",
   "execution_count": 20,
   "id": "864aedde",
   "metadata": {
    "scrolled": true
   },
   "outputs": [
    {
     "name": "stdout",
     "output_type": "stream",
     "text": [
      "(20,)\n"
     ]
    },
    {
     "data": {
      "text/plain": [
       "array([-1.08669864e+00, -5.74089037e-01, -7.98119348e-02, -2.20083002e-01,\n",
       "       -1.18474575e+00,  9.79129257e-02,  1.26531716e+00, -6.24767768e-02,\n",
       "        4.45462511e-01,  6.27476072e-01,  2.45541848e+00, -3.05525889e+00,\n",
       "        5.96614266e-01,  7.12012381e-01, -4.40014695e-01,  1.92665032e+00,\n",
       "        5.03694196e+00, -3.62640210e-03, -8.50206406e-01, -8.86044880e-01])"
      ]
     },
     "execution_count": 20,
     "metadata": {},
     "output_type": "execute_result"
    }
   ],
   "source": [
    "np.random.seed(111)\n",
    "base_sample = np.random.standard_t(df=3, size=20)\n",
    "print(base_sample.shape)\n",
    "base_sample"
   ]
  },
  {
   "cell_type": "code",
   "execution_count": 21,
   "id": "b7de112c",
   "metadata": {},
   "outputs": [],
   "source": [
    "# Посчитаем среднее значение и стандартную ошибку по исходной выборке\n",
    "theta_hat = np.mean(base_sample)\n",
    "se_theta_hat = np.std(base_sample, ddof=1) / np.sqrt(len(base_sample))"
   ]
  },
  {
   "cell_type": "code",
   "execution_count": 22,
   "id": "d05e40d8",
   "metadata": {},
   "outputs": [],
   "source": [
    "def t_star_counter(sample):\n",
    "    return (np.mean(sample) - theta_hat) / (np.std(sample, ddof=1) / np.sqrt(len(sample)))"
   ]
  },
  {
   "cell_type": "code",
   "execution_count": 23,
   "id": "43e5dfc7",
   "metadata": {},
   "outputs": [],
   "source": [
    "np.random.seed(222)\n",
    "\n",
    "does_t_bootstap_CI_cover = []\n",
    "for i in range(10**4):\n",
    "    np.random.seed(i)\n",
    "    \n",
    "    # Создадим 25 бутстрэп-выборок размера 20, не слишком много, чтобы можно было сравинить качество\n",
    "    iteration = np.random.choice(base_sample, size=(25, 20))\n",
    "    \n",
    "    # Создадим список t-статистик, посчитанных по всем бутстрэп-выборкам\n",
    "    t_stars = np.array([t_star_counter(sample) for sample in iteration])\n",
    "    \n",
    "    # Посчитаем левый и правый квантили\n",
    "    q_l = np.quantile(t_stars, q=alpha/2)\n",
    "    q_r = np.quantile(t_stars, q=1-alpha/2)\n",
    "    \n",
    "    cond = (theta_hat - q_r * se_theta_hat <= 0) & (0 <= theta_hat - q_l * se_theta_hat)\n",
    "    does_t_bootstap_CI_cover.append(cond)"
   ]
  },
  {
   "cell_type": "code",
   "execution_count": 24,
   "id": "a7b1afa0",
   "metadata": {},
   "outputs": [
    {
     "name": "stdout",
     "output_type": "stream",
     "text": [
      "Оценка вероятности накрытия доверительным интервалом мат. ожидания равна 0.9977\n"
     ]
    }
   ],
   "source": [
    "# Получим оценку вероятности накрытия доверительным интервалом мат. ожидания\n",
    "print(f\"Оценка вероятности накрытия доверительным интервалом мат. ожидания равна {np.mean(does_t_bootstap_CI_cover)}\")"
   ]
  },
  {
   "cell_type": "markdown",
   "id": "90c80e11",
   "metadata": {},
   "source": [
    "__в)__"
   ]
  },
  {
   "cell_type": "markdown",
   "id": "b5af5686",
   "metadata": {},
   "source": [
    "__Вывод:__ В п. **а** лучше всех себя показал бутстрэп t-статистики, а в п. **б** - наивный бутстрэп."
   ]
  }
 ],
 "metadata": {
  "kernelspec": {
   "display_name": "Python 3 (ipykernel)",
   "language": "python",
   "name": "python3"
  },
  "language_info": {
   "codemirror_mode": {
    "name": "ipython",
    "version": 3
   },
   "file_extension": ".py",
   "mimetype": "text/x-python",
   "name": "python",
   "nbconvert_exporter": "python",
   "pygments_lexer": "ipython3",
   "version": "3.9.13"
  }
 },
 "nbformat": 4,
 "nbformat_minor": 5
}
