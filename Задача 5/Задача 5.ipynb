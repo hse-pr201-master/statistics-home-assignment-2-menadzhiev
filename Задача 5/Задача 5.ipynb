{
 "cells": [
  {
   "cell_type": "markdown",
   "id": "2b3117f1",
   "metadata": {},
   "source": [
    "## Задача 5"
   ]
  },
  {
   "cell_type": "code",
   "execution_count": 1,
   "id": "8c421eff",
   "metadata": {},
   "outputs": [],
   "source": [
    "import numpy as np\n",
    "import pandas as pd\n",
    "import matplotlib.pyplot as plt\n",
    "import scipy.stats as sts"
   ]
  },
  {
   "cell_type": "code",
   "execution_count": 2,
   "id": "b0ecb0bd",
   "metadata": {
    "scrolled": false
   },
   "outputs": [
    {
     "data": {
      "text/html": [
       "<div>\n",
       "<style scoped>\n",
       "    .dataframe tbody tr th:only-of-type {\n",
       "        vertical-align: middle;\n",
       "    }\n",
       "\n",
       "    .dataframe tbody tr th {\n",
       "        vertical-align: top;\n",
       "    }\n",
       "\n",
       "    .dataframe thead th {\n",
       "        text-align: right;\n",
       "    }\n",
       "</style>\n",
       "<table border=\"1\" class=\"dataframe\">\n",
       "  <thead>\n",
       "    <tr style=\"text-align: right;\">\n",
       "      <th></th>\n",
       "      <th>Surname</th>\n",
       "      <th>Score</th>\n",
       "    </tr>\n",
       "  </thead>\n",
       "  <tbody>\n",
       "    <tr>\n",
       "      <th>0</th>\n",
       "      <td>Репенкова</td>\n",
       "      <td>16</td>\n",
       "    </tr>\n",
       "    <tr>\n",
       "      <th>1</th>\n",
       "      <td>Ролдугина</td>\n",
       "      <td>0</td>\n",
       "    </tr>\n",
       "    <tr>\n",
       "      <th>2</th>\n",
       "      <td>Сафина</td>\n",
       "      <td>19</td>\n",
       "    </tr>\n",
       "    <tr>\n",
       "      <th>3</th>\n",
       "      <td>Сидоров</td>\n",
       "      <td>26</td>\n",
       "    </tr>\n",
       "    <tr>\n",
       "      <th>4</th>\n",
       "      <td>Солоухин</td>\n",
       "      <td>21</td>\n",
       "    </tr>\n",
       "  </tbody>\n",
       "</table>\n",
       "</div>"
      ],
      "text/plain": [
       "     Surname  Score\n",
       "0  Репенкова     16\n",
       "1  Ролдугина      0\n",
       "2     Сафина     19\n",
       "3    Сидоров     26\n",
       "4   Солоухин     21"
      ]
     },
     "execution_count": 2,
     "metadata": {},
     "output_type": "execute_result"
    }
   ],
   "source": [
    "exam_df = pd.read_excel('exam_results.xls')\n",
    "exam_df.drop(columns=['Номер', 'ИО'], inplace=True)\n",
    "exam_df.columns = ['Surname', 'Score']\n",
    "exam_df.head()"
   ]
  },
  {
   "cell_type": "code",
   "execution_count": 3,
   "id": "0230ad36",
   "metadata": {},
   "outputs": [],
   "source": [
    "def first_letter(surname):\n",
    "    if surname[0].lower() in vowels:\n",
    "        return True\n",
    "    return False"
   ]
  },
  {
   "cell_type": "code",
   "execution_count": 4,
   "id": "15f54086",
   "metadata": {},
   "outputs": [],
   "source": [
    "# Для начала разделим данные таблицы по фамилиям, начинающимся с гласной и согласной букв\n",
    "vowels = {'а', 'е', 'ё', 'и', 'о', 'у', 'ы', 'э', 'ю', 'я'}"
   ]
  },
  {
   "cell_type": "code",
   "execution_count": 5,
   "id": "a7387a53",
   "metadata": {},
   "outputs": [],
   "source": [
    "# Зададим уровень значимости\n",
    "alpha = 0.05\n",
    "\n",
    "# Выделим выборки\n",
    "vowels_cond = np.vectorize(first_letter)(exam_df['Surname'])\n",
    "C = exam_df[~vowels_cond]\n",
    "V = exam_df[vowels_cond]"
   ]
  },
  {
   "cell_type": "code",
   "execution_count": 6,
   "id": "cca0eee6",
   "metadata": {},
   "outputs": [],
   "source": [
    "exam_med = exam_df['Score'].median()\n",
    "med_cond = exam_df['Score'] > exam_med\n",
    "\n",
    "first_cond = med_cond & ~vowels_cond\n",
    "second_cond = med_cond & vowels_cond\n",
    "third_cond = ~med_cond & ~vowels_cond\n",
    "fourth_cond = ~med_cond & vowels_cond"
   ]
  },
  {
   "cell_type": "code",
   "execution_count": 7,
   "id": "2fed8d9a",
   "metadata": {},
   "outputs": [
    {
     "data": {
      "text/html": [
       "<div>\n",
       "<style scoped>\n",
       "    .dataframe tbody tr th:only-of-type {\n",
       "        vertical-align: middle;\n",
       "    }\n",
       "\n",
       "    .dataframe tbody tr th {\n",
       "        vertical-align: top;\n",
       "    }\n",
       "\n",
       "    .dataframe thead th {\n",
       "        text-align: right;\n",
       "    }\n",
       "</style>\n",
       "<table border=\"1\" class=\"dataframe\">\n",
       "  <thead>\n",
       "    <tr style=\"text-align: right;\">\n",
       "      <th></th>\n",
       "      <th>con</th>\n",
       "      <th>vow</th>\n",
       "    </tr>\n",
       "  </thead>\n",
       "  <tbody>\n",
       "    <tr>\n",
       "      <th>&gt;med</th>\n",
       "      <td>145</td>\n",
       "      <td>21</td>\n",
       "    </tr>\n",
       "    <tr>\n",
       "      <th>&lt;=med</th>\n",
       "      <td>138</td>\n",
       "      <td>28</td>\n",
       "    </tr>\n",
       "  </tbody>\n",
       "</table>\n",
       "</div>"
      ],
      "text/plain": [
       "       con  vow\n",
       ">med   145   21\n",
       "<=med  138   28"
      ]
     },
     "execution_count": 7,
     "metadata": {},
     "output_type": "execute_result"
    }
   ],
   "source": [
    "exam_table = pd.DataFrame(\n",
    "    data=[[first_cond.sum(), second_cond.sum()], [third_cond.sum(), fourth_cond.sum()]],\n",
    "    columns=['con', 'vow'],\n",
    "    index=['>med', '<=med']\n",
    ")\n",
    "\n",
    "exam_table"
   ]
  },
  {
   "cell_type": "markdown",
   "id": "a91aacfb",
   "metadata": {},
   "source": [
    "__а)__"
   ]
  },
  {
   "cell_type": "markdown",
   "id": "82da491d",
   "metadata": {},
   "source": [
    "__1.__ Построим Д.И."
   ]
  },
  {
   "cell_type": "code",
   "execution_count": 8,
   "id": "a514bd87",
   "metadata": {},
   "outputs": [
    {
     "name": "stdout",
     "output_type": "stream",
     "text": [
      "z_crit = 1.959963984540054\n"
     ]
    }
   ],
   "source": [
    " # Найдем критическое значение\n",
    "z_crit = sts.norm.ppf(1 - alpha / 2)\n",
    "print(f'z_crit = {z_crit}')\n",
    "\n",
    "# Посчитаем все необходимые значения\n",
    "n_V_plus, n_V = 21, 21 + 28\n",
    "p_V_hat = n_V_plus / n_V\n",
    "\n",
    "\n",
    "n_C_plus, n_C = 145, 145 + 138\n",
    "p_C_hat = n_C_plus / n_C\n",
    "\n",
    "\n",
    "OR_hat = (p_V_hat / (1 - p_V_hat)) / (p_C_hat / (1 - p_C_hat))\n",
    "se_ln_OR_hat = np.sqrt(1 / ((1 - p_V_hat) * p_V_hat * n_V) + 1 / ((1 - p_C_hat) * p_C_hat * n_C))"
   ]
  },
  {
   "cell_type": "code",
   "execution_count": 9,
   "id": "0b1fe400",
   "metadata": {},
   "outputs": [
    {
     "name": "stdout",
     "output_type": "stream",
     "text": [
      "q_l = 0.3870945958254781, q_r = 1.3162172761513564\n"
     ]
    }
   ],
   "source": [
    "# Построим Д.И.\n",
    "q_l = np.exp(np.log(OR_hat) - z_crit * se_ln_OR_hat)\n",
    "q_r = np.exp(np.log(OR_hat) + z_crit * se_ln_OR_hat)\n",
    "print(f'q_l = {q_l}, q_r = {q_r}')"
   ]
  },
  {
   "cell_type": "markdown",
   "id": "db647f45",
   "metadata": {},
   "source": [
    "__2.__ Проверим гипотезу о том, что отношение шансов равно 1 и найдем P-значение"
   ]
  },
  {
   "cell_type": "code",
   "execution_count": 10,
   "id": "8e653180",
   "metadata": {},
   "outputs": [
    {
     "data": {
      "text/plain": [
       "-1.0799144576000155"
      ]
     },
     "execution_count": 10,
     "metadata": {},
     "output_type": "execute_result"
    }
   ],
   "source": [
    "# Посчитаем наблюдаемую статистику\n",
    "z_obs = (np.log(OR_hat) - 0) / se_ln_OR_hat\n",
    "z_obs"
   ]
  },
  {
   "cell_type": "code",
   "execution_count": 11,
   "id": "f57a3da2",
   "metadata": {},
   "outputs": [
    {
     "data": {
      "text/plain": [
       "True"
      ]
     },
     "execution_count": 11,
     "metadata": {},
     "output_type": "execute_result"
    }
   ],
   "source": [
    "# Наблюдаемое значение меньше критического по модулю\n",
    "np.abs(z_obs) < z_crit"
   ]
  },
  {
   "cell_type": "code",
   "execution_count": 12,
   "id": "9749f3d6",
   "metadata": {},
   "outputs": [
    {
     "data": {
      "text/plain": [
       "0.280180274566451"
      ]
     },
     "execution_count": 12,
     "metadata": {},
     "output_type": "execute_result"
    }
   ],
   "source": [
    "# Найдем p-value, равное двум значениям функции распределения стандартной нормальной с.в. в точке -z_obs\n",
    "p_value = 2 * sts.norm.cdf(z_obs)\n",
    "p_value"
   ]
  },
  {
   "cell_type": "markdown",
   "id": "536d1510",
   "metadata": {},
   "source": [
    "__Вывод:__ Видим, что гипотеза о том, что отношение шансов равно 1, не отвергается, так как наблюдаемое значение по модулю не превышает критического, что согласуется с тем, что p-value больше уровня значимости."
   ]
  },
  {
   "cell_type": "markdown",
   "id": "d643ff34",
   "metadata": {},
   "source": [
    "__б)__"
   ]
  },
  {
   "cell_type": "markdown",
   "id": "52186df5",
   "metadata": {},
   "source": [
    "__1.__ Построим Д.И."
   ]
  },
  {
   "cell_type": "code",
   "execution_count": 13,
   "id": "ce74158e",
   "metadata": {},
   "outputs": [
    {
     "name": "stdout",
     "output_type": "stream",
     "text": [
      "z_crit = 1.959963984540054\n"
     ]
    }
   ],
   "source": [
    "# Найдем критическое значение\n",
    "z_crit = sts.norm.ppf(1 - alpha / 2)\n",
    "print(f'z_crit = {z_crit}')\n",
    "\n",
    "# Посчитаем все необходимые значения\n",
    "n_V_plus, n_V = 21, 21 + 28\n",
    "p_V_hat = n_V_plus / n_V\n",
    "\n",
    "\n",
    "n_C_plus, n_C = 145, 145 + 138\n",
    "p_C_hat = n_C_plus / n_C\n",
    "\n",
    "\n",
    "se_ln = np.sqrt((1 - p_V_hat) / (p_V_hat * n_V) + (1 - p_C_hat) / (p_C_hat * n_C))"
   ]
  },
  {
   "cell_type": "code",
   "execution_count": 14,
   "id": "036e923b",
   "metadata": {},
   "outputs": [
    {
     "name": "stdout",
     "output_type": "stream",
     "text": [
      "q_l = 0.5937529565040843, q_r = 1.1783586951819993\n"
     ]
    }
   ],
   "source": [
    "# Построим Д.И.\n",
    "q_l = np.exp(np.log(p_V_hat) - np.log(p_C_hat) - z_crit * se_ln)\n",
    "q_r = np.exp(np.log(p_V_hat) - np.log(p_C_hat) + z_crit * se_ln)\n",
    "print(f'q_l = {q_l}, q_r = {q_r}')"
   ]
  },
  {
   "cell_type": "markdown",
   "id": "656a2c5e",
   "metadata": {},
   "source": [
    "__2.__ Проверим гипотезу о том, что отношение вероятностей равно 1 и найдем P-значение"
   ]
  },
  {
   "cell_type": "code",
   "execution_count": 15,
   "id": "3a11e168",
   "metadata": {},
   "outputs": [
    {
     "data": {
      "text/plain": [
       "-1.021337019974948"
      ]
     },
     "execution_count": 15,
     "metadata": {},
     "output_type": "execute_result"
    }
   ],
   "source": [
    "# Посчитаем наблюдаемую статистику\n",
    "z_obs = (np.log(p_V_hat) - np.log(p_C_hat) - 0) / se_ln\n",
    "z_obs"
   ]
  },
  {
   "cell_type": "code",
   "execution_count": 16,
   "id": "e07976c3",
   "metadata": {},
   "outputs": [
    {
     "data": {
      "text/plain": [
       "True"
      ]
     },
     "execution_count": 16,
     "metadata": {},
     "output_type": "execute_result"
    }
   ],
   "source": [
    "# Наблюдаемое значение меньше критического по модулю\n",
    "np.abs(z_obs) < z_crit"
   ]
  },
  {
   "cell_type": "code",
   "execution_count": 17,
   "id": "129efb67",
   "metadata": {},
   "outputs": [
    {
     "data": {
      "text/plain": [
       "0.3070947928050546"
      ]
     },
     "execution_count": 17,
     "metadata": {},
     "output_type": "execute_result"
    }
   ],
   "source": [
    "# Найдем p-value, равное двум значениям функции распределения стандартной нормальной с.в. в точке -z_obs\n",
    "p_value = 2 * sts.norm.cdf(z_obs)\n",
    "p_value"
   ]
  },
  {
   "cell_type": "markdown",
   "id": "f6d757ec",
   "metadata": {},
   "source": [
    "__Вывод:__ Видим, что гипотеза о том, что отношение вероятностей равно 1, не отвергается, так как наблюдаемое значение по модулю не превышает критического, что согласуется с тем, что p-value больше уровня значимости."
   ]
  },
  {
   "cell_type": "markdown",
   "id": "d44ed02e",
   "metadata": {},
   "source": [
    "__в)__"
   ]
  },
  {
   "cell_type": "markdown",
   "id": "aa6afd57",
   "metadata": {},
   "source": [
    "__1.__ Построим Д.И."
   ]
  },
  {
   "cell_type": "code",
   "execution_count": 18,
   "id": "3233b67c",
   "metadata": {},
   "outputs": [],
   "source": [
    "# Запишем базовые выборки\n",
    "C_base_sample = C['Score'].values\n",
    "V_base_sample = V['Score'].values"
   ]
  },
  {
   "cell_type": "code",
   "execution_count": 19,
   "id": "f56bcbff",
   "metadata": {},
   "outputs": [],
   "source": [
    "np.random.seed(111)\n",
    "\n",
    "# Сгенерируем бутстрэп-выборки\n",
    "C_bootstrapped = np.random.choice(C_base_sample, size=(10**4, C_base_sample.shape[0]))\n",
    "V_bootstrapped = np.random.choice(V_base_sample, size=(10**4, V_base_sample.shape[0]))"
   ]
  },
  {
   "cell_type": "code",
   "execution_count": 20,
   "id": "98266fbe",
   "metadata": {},
   "outputs": [],
   "source": [
    "def OR_hat_star(C_sample, V_sample):\n",
    "    p_C_hat_star = (C_sample > exam_med).sum() / len(C_sample)\n",
    "    p_V_hat_star = (V_sample > exam_med).sum() / len(V_sample)\n",
    "    \n",
    "    odds_C_star = p_C_hat_star / (1 - p_C_hat_star)\n",
    "    odds_V_star = p_V_hat_star / (1 - p_V_hat_star)\n",
    "    \n",
    "    return odds_V_star / odds_C_star"
   ]
  },
  {
   "cell_type": "code",
   "execution_count": 21,
   "id": "5de7b7e0",
   "metadata": {},
   "outputs": [],
   "source": [
    "# Посчитаем значения OR_hat_star для каждой пары C_i, V_i\n",
    "OR_hat_stars = np.array([\n",
    "    OR_hat_star(C_sample, V_sample) for C_sample, V_sample in zip(C_bootstrapped, V_bootstrapped)])"
   ]
  },
  {
   "cell_type": "code",
   "execution_count": 22,
   "id": "1a68e215",
   "metadata": {
    "scrolled": false
   },
   "outputs": [
    {
     "name": "stdout",
     "output_type": "stream",
     "text": [
      "0.37410071942446055 1.3414965986394556\n"
     ]
    }
   ],
   "source": [
    "# Построим Д.И.\n",
    "q_l = np.quantile(OR_hat_stars, q=alpha / 2)\n",
    "q_r = np.quantile(OR_hat_stars, q=1 - alpha / 2)\n",
    "print(q_l, q_r)"
   ]
  },
  {
   "cell_type": "markdown",
   "id": "ccf38417",
   "metadata": {},
   "source": [
    "__2.__ Проверим гипотезу о том, что отношение вероятностей равно 1 и найдем P-значение"
   ]
  },
  {
   "cell_type": "code",
   "execution_count": 23,
   "id": "39e0665c",
   "metadata": {},
   "outputs": [
    {
     "data": {
      "text/plain": [
       "0.7137931034482758"
      ]
     },
     "execution_count": 23,
     "metadata": {},
     "output_type": "execute_result"
    }
   ],
   "source": [
    "# Посчитаем наблюдаемую статистику\n",
    "n_C_plus, n_C = 145, 145 + 138\n",
    "p_C_hat = n_C_plus / n_C\n",
    "\n",
    "n_V_plus, n_V = 21, 21 + 28\n",
    "p_V_hat = n_V_plus / n_V\n",
    "\n",
    "\n",
    "OR_hat = (p_V_hat / (1 - p_V_hat)) / (p_C_hat / (1 - p_C_hat))\n",
    "OR_hat"
   ]
  },
  {
   "cell_type": "code",
   "execution_count": 24,
   "id": "7553dcbe",
   "metadata": {},
   "outputs": [
    {
     "data": {
      "text/plain": [
       "0.9826"
      ]
     },
     "execution_count": 24,
     "metadata": {},
     "output_type": "execute_result"
    }
   ],
   "source": [
    "# Найдем p-value\n",
    "p_value = 2 * min(np.mean(OR_hat_stars <= OR_hat), np.mean(OR_hat_stars > OR_hat))\n",
    "p_value"
   ]
  },
  {
   "cell_type": "code",
   "execution_count": 25,
   "id": "d65e3312",
   "metadata": {
    "scrolled": false
   },
   "outputs": [
    {
     "data": {
      "image/png": "[encoded data removed]",
      "text/plain": [
       "<Figure size 640x480 with 1 Axes>"
      ]
     },
     "metadata": {},
     "output_type": "display_data"
    }
   ],
   "source": [
    "# Построим гистограмму и выделим на ней Д.И.\n",
    "plt.hist(OR_hat_stars, bins=40)\n",
    "\n",
    "plt.vlines(q_l, 0, 900, linestyles='dashed', color='orange', label='q_l')\n",
    "plt.vlines(q_r, 0, 900, linestyles='dashed', color='red', label='q_r')\n",
    "plt.vlines(OR_hat, 0, 900, linestyles='dashed', color='purple', label='OR_hat')\n",
    "\n",
    "plt.title('Гистограмма OR_hat_stars')\n",
    "plt.legend();"
   ]
  },
  {
   "cell_type": "markdown",
   "id": "76c45004",
   "metadata": {},
   "source": [
    "__Вывод:__ Видим, что гипотеза о том, что отношение шансов равно 1, не отвергается, так как 1 попадает в Д.И."
   ]
  }
 ],
 "metadata": {
  "kernelspec": {
   "display_name": "Python 3 (ipykernel)",
   "language": "python",
   "name": "python3"
  },
  "language_info": {
   "codemirror_mode": {
    "name": "ipython",
    "version": 3
   },
   "file_extension": ".py",
   "mimetype": "text/x-python",
   "name": "python",
   "nbconvert_exporter": "python",
   "pygments_lexer": "ipython3",
   "version": "3.9.13"
  }
 },
 "nbformat": 4,
 "nbformat_minor": 5
}
