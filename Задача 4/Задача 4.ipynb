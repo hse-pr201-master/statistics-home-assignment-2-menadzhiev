{
 "cells": [
  {
   "cell_type": "markdown",
   "id": "099977f2",
   "metadata": {},
   "source": [
    "## Задача 4"
   ]
  },
  {
   "cell_type": "code",
   "execution_count": 1,
   "id": "4915d064",
   "metadata": {},
   "outputs": [],
   "source": [
    "import numpy as np\n",
    "import pandas as pd\n",
    "import matplotlib.pyplot as plt\n",
    "import scipy.stats as sts"
   ]
  },
  {
   "cell_type": "code",
   "execution_count": 2,
   "id": "c4dfd0c7",
   "metadata": {
    "scrolled": false
   },
   "outputs": [
    {
     "data": {
      "text/html": [
       "<div>\n",
       "<style scoped>\n",
       "    .dataframe tbody tr th:only-of-type {\n",
       "        vertical-align: middle;\n",
       "    }\n",
       "\n",
       "    .dataframe tbody tr th {\n",
       "        vertical-align: top;\n",
       "    }\n",
       "\n",
       "    .dataframe thead th {\n",
       "        text-align: right;\n",
       "    }\n",
       "</style>\n",
       "<table border=\"1\" class=\"dataframe\">\n",
       "  <thead>\n",
       "    <tr style=\"text-align: right;\">\n",
       "      <th></th>\n",
       "      <th>Surname</th>\n",
       "      <th>Score</th>\n",
       "    </tr>\n",
       "  </thead>\n",
       "  <tbody>\n",
       "    <tr>\n",
       "      <th>0</th>\n",
       "      <td>Репенкова</td>\n",
       "      <td>16</td>\n",
       "    </tr>\n",
       "    <tr>\n",
       "      <th>1</th>\n",
       "      <td>Ролдугина</td>\n",
       "      <td>0</td>\n",
       "    </tr>\n",
       "    <tr>\n",
       "      <th>2</th>\n",
       "      <td>Сафина</td>\n",
       "      <td>19</td>\n",
       "    </tr>\n",
       "    <tr>\n",
       "      <th>3</th>\n",
       "      <td>Сидоров</td>\n",
       "      <td>26</td>\n",
       "    </tr>\n",
       "    <tr>\n",
       "      <th>4</th>\n",
       "      <td>Солоухин</td>\n",
       "      <td>21</td>\n",
       "    </tr>\n",
       "    <tr>\n",
       "      <th>...</th>\n",
       "      <td>...</td>\n",
       "      <td>...</td>\n",
       "    </tr>\n",
       "    <tr>\n",
       "      <th>327</th>\n",
       "      <td>Сенников</td>\n",
       "      <td>19</td>\n",
       "    </tr>\n",
       "    <tr>\n",
       "      <th>328</th>\n",
       "      <td>Ся</td>\n",
       "      <td>0</td>\n",
       "    </tr>\n",
       "    <tr>\n",
       "      <th>329</th>\n",
       "      <td>Сятова</td>\n",
       "      <td>0</td>\n",
       "    </tr>\n",
       "    <tr>\n",
       "      <th>330</th>\n",
       "      <td>Темиркулов</td>\n",
       "      <td>0</td>\n",
       "    </tr>\n",
       "    <tr>\n",
       "      <th>331</th>\n",
       "      <td>Эшмеев</td>\n",
       "      <td>16</td>\n",
       "    </tr>\n",
       "  </tbody>\n",
       "</table>\n",
       "<p>332 rows × 2 columns</p>\n",
       "</div>"
      ],
      "text/plain": [
       "        Surname  Score\n",
       "0     Репенкова     16\n",
       "1     Ролдугина      0\n",
       "2        Сафина     19\n",
       "3       Сидоров     26\n",
       "4      Солоухин     21\n",
       "..          ...    ...\n",
       "327    Сенников     19\n",
       "328          Ся      0\n",
       "329      Сятова      0\n",
       "330  Темиркулов      0\n",
       "331      Эшмеев     16\n",
       "\n",
       "[332 rows x 2 columns]"
      ]
     },
     "execution_count": 2,
     "metadata": {},
     "output_type": "execute_result"
    }
   ],
   "source": [
    "exam_df = pd.read_excel('exam_results.xls')\n",
    "exam_df.drop(columns=['Номер', 'ИО'], inplace=True)\n",
    "exam_df.columns = ['Surname', 'Score']\n",
    "exam_df"
   ]
  },
  {
   "cell_type": "code",
   "execution_count": 3,
   "id": "f5a5ef89",
   "metadata": {},
   "outputs": [],
   "source": [
    "def first_letter(surname):\n",
    "    if surname[0].lower() in vowels:\n",
    "        return True\n",
    "    return False"
   ]
  },
  {
   "cell_type": "code",
   "execution_count": 4,
   "id": "2804966f",
   "metadata": {},
   "outputs": [],
   "source": [
    "# Для начала разделим данные таблицы по фамилиям, начинающимся с гласной и согласной букв\n",
    "vowels = {'а', 'е', 'ё', 'и', 'о', 'у', 'ы', 'э', 'ю', 'я'}"
   ]
  },
  {
   "cell_type": "code",
   "execution_count": 5,
   "id": "328c8860",
   "metadata": {},
   "outputs": [],
   "source": [
    "# Зададим уровень значимости\n",
    "alpha = 0.05  \n",
    "\n",
    "# Выделим выборки\n",
    "vowels_cond = np.vectorize(first_letter)(exam_df['Surname'])\n",
    "C = exam_df[~vowels_cond]\n",
    "V = exam_df[vowels_cond]"
   ]
  },
  {
   "cell_type": "markdown",
   "id": "53ee9c32",
   "metadata": {},
   "source": [
    "__a)__ Воспользуемся тестом Уэлча"
   ]
  },
  {
   "cell_type": "code",
   "execution_count": 6,
   "id": "da636b43",
   "metadata": {},
   "outputs": [
    {
     "name": "stdout",
     "output_type": "stream",
     "text": [
      "p-value = 0.3974027153843839\n"
     ]
    },
    {
     "data": {
      "text/plain": [
       "True"
      ]
     },
     "execution_count": 6,
     "metadata": {},
     "output_type": "execute_result"
    }
   ],
   "source": [
    "gamma_obs, p_value = sts.ttest_ind(C['Score'], V['Score'], equal_var=False)\n",
    "# Укажем p_value\n",
    "print(f\"p-value = {p_value}\")\n",
    "\n",
    "# Заметим, что p-value больше, чем уровень значимости\n",
    "p_value > alpha"
   ]
  },
  {
   "cell_type": "markdown",
   "id": "d8e881db",
   "metadata": {},
   "source": [
    "__Вывод:__ Гипотеза о равенстве ожидаемых результатов экзамена по теории вероятностей тех, у кого фамилия начинается с гласной буквы и тех, у кого с согласной буквы, не отвергается."
   ]
  },
  {
   "cell_type": "markdown",
   "id": "b5bd8a8a",
   "metadata": {},
   "source": [
    "__б)__ Используем наивный бутстрэп"
   ]
  },
  {
   "cell_type": "code",
   "execution_count": 7,
   "id": "cde5670e",
   "metadata": {},
   "outputs": [],
   "source": [
    "C_base_sample = C['Score'].values\n",
    "V_base_sample = V['Score'].values"
   ]
  },
  {
   "cell_type": "code",
   "execution_count": 8,
   "id": "804f3a7e",
   "metadata": {},
   "outputs": [],
   "source": [
    "# Создадим бутсрэп-выборки\n",
    "np.random.seed(111)\n",
    "C_bootstrapped = np.random.choice(C_base_sample, size=(10000, C_base_sample.shape[0]))\n",
    "V_bootstrapped = np.random.choice(V_base_sample, size=(10000, V_base_sample.shape[0]))"
   ]
  },
  {
   "cell_type": "code",
   "execution_count": 9,
   "id": "863bf5e7",
   "metadata": {},
   "outputs": [],
   "source": [
    "def d_star(C_sample, V_sample):\n",
    "    return np.mean(C_sample) - np.mean(V_sample)"
   ]
  },
  {
   "cell_type": "code",
   "execution_count": 10,
   "id": "ccf53ef1",
   "metadata": {},
   "outputs": [],
   "source": [
    "d_stars = np.array([d_star(C_sample, V_sample) for C_sample, V_sample in zip(C_bootstrapped, V_bootstrapped)])"
   ]
  },
  {
   "cell_type": "code",
   "execution_count": 11,
   "id": "7418d442",
   "metadata": {},
   "outputs": [
    {
     "name": "stdout",
     "output_type": "stream",
     "text": [
      "-1.3842593928030582 3.5980961996105845\n"
     ]
    }
   ],
   "source": [
    "q_l = np.quantile(d_stars, q=alpha/2)\n",
    "q_r = np.quantile(d_stars, q=1-alpha/2)\n",
    "print(q_l, q_r)"
   ]
  },
  {
   "cell_type": "code",
   "execution_count": 12,
   "id": "cb1d8227",
   "metadata": {
    "scrolled": true
   },
   "outputs": [
    {
     "data": {
      "text/plain": [
       "1.0782433114588574"
      ]
     },
     "execution_count": 12,
     "metadata": {},
     "output_type": "execute_result"
    }
   ],
   "source": [
    "# Посчитаем наблюдаемое значение\n",
    "d_hat = np.mean(C_base_sample) - np.mean(V_base_sample)\n",
    "d_hat"
   ]
  },
  {
   "cell_type": "code",
   "execution_count": 13,
   "id": "3aa8a9a9",
   "metadata": {},
   "outputs": [
    {
     "data": {
      "text/plain": [
       "0.9992"
      ]
     },
     "execution_count": 13,
     "metadata": {},
     "output_type": "execute_result"
    }
   ],
   "source": [
    "# Посчитаем p-value - доля раз, при которых d_stars превышали d_hat, умноженное на 2\n",
    "p_value = 2 * min(np.mean(d_stars <= d_hat), np.mean(d_stars >= d_hat))\n",
    "p_value"
   ]
  },
  {
   "cell_type": "code",
   "execution_count": 14,
   "id": "d4b087c9",
   "metadata": {},
   "outputs": [
    {
     "data": {
      "image/png": "[encoded data removed]",
      "text/plain": [
       "<Figure size 640x480 with 1 Axes>"
      ]
     },
     "metadata": {},
     "output_type": "display_data"
    }
   ],
   "source": [
    "plt.hist(d_stars, bins=30)\n",
    "plt.vlines(q_l, 0, 1000, linestyles='dashed', color='orange', label='q_l')\n",
    "plt.vlines(q_r, 0, 1000, linestyles='dashed', color='red', label='q_r')\n",
    "plt.vlines(d_hat, 0, 1000, linestyles='dashed', color='purple', label='d_hat')\n",
    "\n",
    "plt.title('Гистограмма распределения d_stars')\n",
    "plt.legend();"
   ]
  },
  {
   "cell_type": "markdown",
   "id": "899a0d0b",
   "metadata": {},
   "source": [
    "__Вывод:__ Видим, что 0 попадает внутрь ДИ. Следовательно, гипотеза о равенстве ожидаемых результатов не отвергается, что согласуется с тем, что p-value больше уровня значимости."
   ]
  },
  {
   "cell_type": "markdown",
   "id": "de363979",
   "metadata": {},
   "source": [
    "__в)__ Используем бутстрэп $t$-статистики"
   ]
  },
  {
   "cell_type": "code",
   "execution_count": 15,
   "id": "b799b7ca",
   "metadata": {},
   "outputs": [],
   "source": [
    "C_base_sample = C['Score'].values\n",
    "V_base_sample = V['Score'].values"
   ]
  },
  {
   "cell_type": "code",
   "execution_count": 16,
   "id": "919d9070",
   "metadata": {},
   "outputs": [],
   "source": [
    "n_C, n_V = len(C_base_sample), len(V_base_sample)\n",
    "\n",
    "C_mean = np.mean(C_base_sample)\n",
    "V_mean = np.mean(V_base_sample)\n",
    "\n",
    "# Посчитаем несмещенные оценки дисперсии\n",
    "S_C = np.var(C_base_sample, ddof=1)\n",
    "S_V = np.var(V_base_sample, ddof=1)"
   ]
  },
  {
   "cell_type": "code",
   "execution_count": 17,
   "id": "2cb9699b",
   "metadata": {},
   "outputs": [],
   "source": [
    "# Создадим бутсрэп-выборки\n",
    "np.random.seed(111)\n",
    "C_bootstrapped = np.random.choice(C_base_sample, size=(10000, C_base_sample.shape[0]))\n",
    "V_bootstrapped = np.random.choice(V_base_sample, size=(10000, V_base_sample.shape[0]))"
   ]
  },
  {
   "cell_type": "code",
   "execution_count": 18,
   "id": "64507093",
   "metadata": {},
   "outputs": [],
   "source": [
    "def t_star(C_sample, V_sample):\n",
    "    C_mean_star, V_mean_star = np.mean(C_sample), np.mean(V_sample)\n",
    "    S_C_star, S_V_star = np.var(C_sample, ddof=1), np.var(V_sample, ddof=1)\n",
    "    \n",
    "    return (C_mean_star - V_mean_star - (C_mean - V_mean) ) / np.sqrt(S_C_star / n_C + S_V_star / n_V)"
   ]
  },
  {
   "cell_type": "code",
   "execution_count": 19,
   "id": "e10fc7cc",
   "metadata": {},
   "outputs": [],
   "source": [
    "t_stars = [t_star(C_sample, V_sample) for C_sample, V_sample in zip(C_bootstrapped, V_bootstrapped)]"
   ]
  },
  {
   "cell_type": "code",
   "execution_count": 20,
   "id": "1b606870",
   "metadata": {},
   "outputs": [
    {
     "name": "stdout",
     "output_type": "stream",
     "text": [
      "-2.1195208917383455 1.9667458361438348\n"
     ]
    }
   ],
   "source": [
    "q_l_curr = np.quantile(t_stars, q= alpha / 2)\n",
    "q_r_curr = np.quantile(t_stars, q=1 - alpha / 2)\n",
    "print(q_l_curr, q_r_curr)"
   ]
  },
  {
   "cell_type": "code",
   "execution_count": 21,
   "id": "dd22fc13",
   "metadata": {},
   "outputs": [
    {
     "data": {
      "text/plain": [
       "0.8519661870595602"
      ]
     },
     "execution_count": 21,
     "metadata": {},
     "output_type": "execute_result"
    }
   ],
   "source": [
    "# Посчитаем наблюдаемую t-статистику при верной H_0\n",
    "t_hat = (C_mean - V_mean) / np.sqrt(S_C / n_C + S_V / n_V)\n",
    "t_hat"
   ]
  },
  {
   "cell_type": "code",
   "execution_count": 22,
   "id": "3ed41718",
   "metadata": {},
   "outputs": [
    {
     "data": {
      "text/plain": [
       "0.4012"
      ]
     },
     "execution_count": 22,
     "metadata": {},
     "output_type": "execute_result"
    }
   ],
   "source": [
    "# Посчитаем p-value - доля раз, при которых t_stars превышали t_hat, умноженное на 2\n",
    "p_value = 2 * min(np.mean(t_stars <= t_hat), np.mean(t_stars >= t_hat))\n",
    "p_value"
   ]
  },
  {
   "cell_type": "code",
   "execution_count": 23,
   "id": "e9d50fd0",
   "metadata": {},
   "outputs": [
    {
     "name": "stdout",
     "output_type": "stream",
     "text": [
      "-1.4108584573339886 3.760696276994703\n"
     ]
    }
   ],
   "source": [
    "# Построим доверительный интервал\n",
    "q_l = C_mean - V_mean - q_r_curr * np.sqrt(S_C / n_C + S_V / n_V)\n",
    "q_r = C_mean - V_mean - q_l_curr * np.sqrt(S_C / n_C + S_V / n_V)\n",
    "print(q_l, q_r)"
   ]
  },
  {
   "cell_type": "markdown",
   "id": "76a85933",
   "metadata": {},
   "source": [
    "__Вывод:__ Видим, что 0 принадлежит интервалу, следовательно, гипотеза о том, что ожидаемые результаты экзамена по теории вероятностей тех, у кого фамилия начинается с гласной буквы и с согласной буквы, равны, не отвергается."
   ]
  },
  {
   "cell_type": "markdown",
   "id": "6c75402e",
   "metadata": {},
   "source": [
    "__г)__ Используем перестановочный тест"
   ]
  },
  {
   "cell_type": "code",
   "execution_count": 24,
   "id": "ae931859",
   "metadata": {},
   "outputs": [],
   "source": [
    "C_base_sample = C['Score'].values\n",
    "V_base_sample = V['Score'].values\n",
    "\n",
    "n_C, n_V = len(C_base_sample), len(V_base_sample)"
   ]
  },
  {
   "cell_type": "code",
   "execution_count": 25,
   "id": "1aed6065",
   "metadata": {},
   "outputs": [],
   "source": [
    "# Создадим выборки A и Y\n",
    "A = np.hstack([np.zeros(len(V_base_sample)), np.ones(len(C_base_sample))])\n",
    "Y = np.hstack([V_base_sample, C_base_sample])"
   ]
  },
  {
   "cell_type": "code",
   "execution_count": 26,
   "id": "8ef7c68c",
   "metadata": {},
   "outputs": [],
   "source": [
    "def delta_star(A, Y, i):\n",
    "    np.random.seed(i)\n",
    "    A_star = np.random.permutation(A)\n",
    "    cond = (A_star == 1)\n",
    "    return Y[cond].sum() / n_C - Y[~cond].sum() / n_V"
   ]
  },
  {
   "cell_type": "code",
   "execution_count": 27,
   "id": "95654686",
   "metadata": {},
   "outputs": [],
   "source": [
    "# Посчитаем delta_stars\n",
    "delta_stars = [delta_star(A, Y, i) for i in range(10**4)]"
   ]
  },
  {
   "cell_type": "code",
   "execution_count": 28,
   "id": "b4651fa4",
   "metadata": {},
   "outputs": [
    {
     "name": "stdout",
     "output_type": "stream",
     "text": [
      "-2.345424388836806 2.418980312973247\n"
     ]
    }
   ],
   "source": [
    "# Посчитаем квантили\n",
    "q_l = np.quantile(delta_stars, q=alpha / 2)\n",
    "q_r = np.quantile(delta_stars, q=1 - alpha / 2)\n",
    "print(q_l, q_r)"
   ]
  },
  {
   "cell_type": "code",
   "execution_count": 29,
   "id": "f6207c6a",
   "metadata": {},
   "outputs": [
    {
     "data": {
      "text/plain": [
       "1.0782433114588574"
      ]
     },
     "execution_count": 29,
     "metadata": {},
     "output_type": "execute_result"
    }
   ],
   "source": [
    "# Посчитаем наблюдаемое значение разности\n",
    "delta_hat = np.mean(C_base_sample) - np.mean(V_base_sample)\n",
    "delta_hat"
   ]
  },
  {
   "cell_type": "code",
   "execution_count": 30,
   "id": "6fc2cba6",
   "metadata": {},
   "outputs": [
    {
     "data": {
      "text/plain": [
       "0.3834"
      ]
     },
     "execution_count": 30,
     "metadata": {},
     "output_type": "execute_result"
    }
   ],
   "source": [
    "# Посчитаем p-value - доля раз, при которых delta_stars превышали delta_hat, умноженное на 2\n",
    "p_value = 2 * min(np.mean(delta_stars <= delta_hat), np.mean(delta_stars >= delta_hat))\n",
    "p_value"
   ]
  },
  {
   "cell_type": "code",
   "execution_count": 31,
   "id": "579e9d3d",
   "metadata": {
    "scrolled": false
   },
   "outputs": [
    {
     "data": {
      "image/png": "[encoded data removed]",
      "text/plain": [
       "<Figure size 640x480 with 1 Axes>"
      ]
     },
     "metadata": {},
     "output_type": "display_data"
    }
   ],
   "source": [
    "plt.hist(delta_stars, bins=30)\n",
    "\n",
    "plt.vlines(q_l, 0, 1100, linestyles='dashed', color='orange', label='q_l')\n",
    "plt.vlines(q_r, 0, 1100, linestyles='dashed', color='red', label='q_r')\n",
    "\n",
    "plt.title('Гистограмма распределения delta_stars')\n",
    "plt.legend();"
   ]
  },
  {
   "cell_type": "markdown",
   "id": "275f8875",
   "metadata": {},
   "source": [
    "__Вывод:__ Видим, что наблюдаемое значение попадает в интервал, следовательно, гипотеза о том, что ожидаемые результаты экзамена по теории вероятностей тех, у кого фамилия начинается с гласной буквы и с согласной буквы, равны, не отвергается."
   ]
  }
 ],
 "metadata": {
  "kernelspec": {
   "display_name": "Python 3 (ipykernel)",
   "language": "python",
   "name": "python3"
  },
  "language_info": {
   "codemirror_mode": {
    "name": "ipython",
    "version": 3
   },
   "file_extension": ".py",
   "mimetype": "text/x-python",
   "name": "python",
   "nbconvert_exporter": "python",
   "pygments_lexer": "ipython3",
   "version": "3.9.13"
  }
 },
 "nbformat": 4,
 "nbformat_minor": 5
}
